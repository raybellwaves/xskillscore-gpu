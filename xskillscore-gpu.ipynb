{
 "cells": [
  {
   "cell_type": "code",
   "execution_count": 1,
   "id": "04d19f0b-03bd-434e-b9cc-5fae7e7feb43",
   "metadata": {
    "execution": {
     "iopub.execute_input": "2024-03-11T03:38:19.875248Z",
     "iopub.status.busy": "2024-03-11T03:38:19.874938Z",
     "iopub.status.idle": "2024-03-11T03:38:21.496324Z",
     "shell.execute_reply": "2024-03-11T03:38:21.495798Z",
     "shell.execute_reply.started": "2024-03-11T03:38:19.875228Z"
    }
   },
   "outputs": [],
   "source": [
    "import timeit\n",
    "import cupy\n",
    "import numpy as np"
   ]
  },
  {
   "cell_type": "markdown",
   "id": "70c5f8d1-5a16-4ee2-ad4f-4799a449c1fb",
   "metadata": {},
   "source": [
    "Generate fake weather data"
   ]
  },
  {
   "cell_type": "code",
   "execution_count": 2,
   "id": "a804f816-5756-4184-b4d4-77ffd1863381",
   "metadata": {
    "execution": {
     "iopub.execute_input": "2024-03-11T03:38:21.497830Z",
     "iopub.status.busy": "2024-03-11T03:38:21.497394Z",
     "iopub.status.idle": "2024-03-11T03:38:36.762347Z",
     "shell.execute_reply": "2024-03-11T03:38:36.761796Z",
     "shell.execute_reply.started": "2024-03-11T03:38:21.497810Z"
    }
   },
   "outputs": [],
   "source": [
    "n_time = 1_000\n",
    "n_lat = 721\n",
    "n_lon = 1_400\n",
    "# n_time, n_lat, n_lon = 3, 3, 3\n",
    "obs = np.random.rand(n_time, n_lat, n_lon).astype(\"float32\")\n",
    "fct = np.random.rand(n_time, n_lat, n_lon).astype(\"float32\")"
   ]
  },
  {
   "cell_type": "markdown",
   "id": "e7963dfc-9c1c-440b-819e-2137dd05c09f",
   "metadata": {},
   "source": [
    "Apply RMSE over the time dimension"
   ]
  },
  {
   "cell_type": "code",
   "execution_count": 3,
   "id": "495e153b-7c7d-4677-9b83-ae8fba9ae9a3",
   "metadata": {
    "execution": {
     "iopub.execute_input": "2024-03-11T03:38:36.763156Z",
     "iopub.status.busy": "2024-03-11T03:38:36.762981Z",
     "iopub.status.idle": "2024-03-11T03:38:37.856500Z",
     "shell.execute_reply": "2024-03-11T03:38:37.855957Z",
     "shell.execute_reply.started": "2024-03-11T03:38:36.763139Z"
    }
   },
   "outputs": [],
   "source": [
    "np_rmse = timeit.timeit(lambda: np.sqrt(np.sum((obs - fct) ** 2, axis=0)), number=1)"
   ]
  },
  {
   "cell_type": "code",
   "execution_count": 4,
   "id": "e6e3b5e6-e73f-4a92-a244-0bcb5679fd95",
   "metadata": {
    "execution": {
     "iopub.execute_input": "2024-03-11T03:38:37.857701Z",
     "iopub.status.busy": "2024-03-11T03:38:37.857540Z",
     "iopub.status.idle": "2024-03-11T03:38:37.872833Z",
     "shell.execute_reply": "2024-03-11T03:38:37.872204Z",
     "shell.execute_reply.started": "2024-03-11T03:38:37.857683Z"
    }
   },
   "outputs": [],
   "source": [
    "del obs, fct"
   ]
  },
  {
   "cell_type": "markdown",
   "id": "54a8a2ef-8106-434c-9684-a986a5e95b22",
   "metadata": {
    "execution": {
     "iopub.execute_input": "2024-03-11T03:02:35.654628Z",
     "iopub.status.busy": "2024-03-11T03:02:35.654199Z",
     "iopub.status.idle": "2024-03-11T03:02:35.657365Z",
     "shell.execute_reply": "2024-03-11T03:02:35.656734Z",
     "shell.execute_reply.started": "2024-03-11T03:02:35.654606Z"
    }
   },
   "source": [
    "Do the same with cupy"
   ]
  },
  {
   "cell_type": "code",
   "execution_count": 5,
   "id": "d26af8b9-448c-4f57-94b9-8128f2ee0930",
   "metadata": {
    "execution": {
     "iopub.execute_input": "2024-03-11T03:38:42.539480Z",
     "iopub.status.busy": "2024-03-11T03:38:42.539146Z",
     "iopub.status.idle": "2024-03-11T03:38:43.438521Z",
     "shell.execute_reply": "2024-03-11T03:38:43.438001Z",
     "shell.execute_reply.started": "2024-03-11T03:38:42.539460Z"
    }
   },
   "outputs": [],
   "source": [
    "obs = cupy.random.rand(n_time, n_lat, n_lon).astype(\"float32\")\n",
    "fct = cupy.random.rand(n_time, n_lat, n_lon).astype(\"float32\")"
   ]
  },
  {
   "cell_type": "code",
   "execution_count": 6,
   "id": "9ee8c3e5-0d0e-4c47-825c-41b0e33c3806",
   "metadata": {
    "execution": {
     "iopub.execute_input": "2024-03-11T03:38:44.595258Z",
     "iopub.status.busy": "2024-03-11T03:38:44.594786Z",
     "iopub.status.idle": "2024-03-11T03:38:44.650582Z",
     "shell.execute_reply": "2024-03-11T03:38:44.650078Z",
     "shell.execute_reply.started": "2024-03-11T03:38:44.595238Z"
    }
   },
   "outputs": [],
   "source": [
    "cp_rmse = timeit.timeit(lambda: cupy.sqrt(cupy.sum((obs - fct) ** 2, axis=0)), number=1)"
   ]
  },
  {
   "cell_type": "code",
   "execution_count": 7,
   "id": "cfd3f013-6b31-4b69-ae06-5715b83aeda3",
   "metadata": {
    "execution": {
     "iopub.execute_input": "2024-03-11T03:38:44.751086Z",
     "iopub.status.busy": "2024-03-11T03:38:44.750637Z",
     "iopub.status.idle": "2024-03-11T03:38:44.756260Z",
     "shell.execute_reply": "2024-03-11T03:38:44.755792Z",
     "shell.execute_reply.started": "2024-03-11T03:38:44.751066Z"
    }
   },
   "outputs": [
    {
     "data": {
      "text/plain": [
       "0.048373260472381635"
      ]
     },
     "execution_count": 7,
     "metadata": {},
     "output_type": "execute_result"
    }
   ],
   "source": [
    "cp_rmse / np_rmse"
   ]
  },
  {
   "cell_type": "markdown",
   "id": "d92ef6d9-649f-4558-bee5-9b4ce6220185",
   "metadata": {},
   "source": [
    "Implement dispatching to use the GPU if detected..."
   ]
  },
  {
   "cell_type": "code",
   "execution_count": null,
   "id": "3542bbcd-2872-4815-8bcb-03e9359983bb",
   "metadata": {},
   "outputs": [],
   "source": []
  }
 ],
 "metadata": {
  "kernelspec": {
   "display_name": "Python 3 (ipykernel)",
   "language": "python",
   "name": "python3"
  },
  "language_info": {
   "codemirror_mode": {
    "name": "ipython",
    "version": 3
   },
   "file_extension": ".py",
   "mimetype": "text/x-python",
   "name": "python",
   "nbconvert_exporter": "python",
   "pygments_lexer": "ipython3",
   "version": "3.10.13"
  }
 },
 "nbformat": 4,
 "nbformat_minor": 5
}
